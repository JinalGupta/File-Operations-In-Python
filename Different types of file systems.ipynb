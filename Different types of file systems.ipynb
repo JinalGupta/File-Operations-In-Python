{
 "cells": [
  {
   "cell_type": "markdown",
   "id": "2357ab22",
   "metadata": {},
   "source": [
    "# Working with JSON files"
   ]
  },
  {
   "cell_type": "code",
   "execution_count": 1,
   "id": "666c0e02",
   "metadata": {},
   "outputs": [],
   "source": [
    "data = {\n",
    "    \"Name\":\"Jinal\",\n",
    "    \"email_id\":\"jinal@gmail.com\",\n",
    "    \"Phone Number\":982736281,\n",
    "    \"Subject\":[\"Data Science\",\"Machine Learning\",\"Big Data\",\"Data Analytics\"]\n",
    "}"
   ]
  },
  {
   "cell_type": "code",
   "execution_count": 2,
   "id": "9196e03e",
   "metadata": {},
   "outputs": [],
   "source": [
    "import json"
   ]
  },
  {
   "cell_type": "code",
   "execution_count": 3,
   "id": "56ab2cf3",
   "metadata": {},
   "outputs": [],
   "source": [
    "with open(\"Data.json\",\"w\") as f:\n",
    "    json.dump(data,f)"
   ]
  },
  {
   "cell_type": "code",
   "execution_count": 4,
   "id": "131d1b66",
   "metadata": {},
   "outputs": [],
   "source": [
    "with open(\"Data.json\",\"r\") as f:\n",
    "    data1 = json.load(f)"
   ]
  },
  {
   "cell_type": "code",
   "execution_count": 5,
   "id": "68c1b211",
   "metadata": {},
   "outputs": [
    {
     "data": {
      "text/plain": [
       "{'Name': 'Jinal',\n",
       " 'email_id': 'jinal@gmail.com',\n",
       " 'Phone Number': 982736281,\n",
       " 'Subject': ['Data Science', 'Machine Learning', 'Big Data', 'Data Analytics']}"
      ]
     },
     "execution_count": 5,
     "metadata": {},
     "output_type": "execute_result"
    }
   ],
   "source": [
    "data1"
   ]
  },
  {
   "cell_type": "code",
   "execution_count": 6,
   "id": "45220027",
   "metadata": {},
   "outputs": [
    {
     "data": {
      "text/plain": [
       "'Machine Learning'"
      ]
     },
     "execution_count": 6,
     "metadata": {},
     "output_type": "execute_result"
    }
   ],
   "source": [
    "data1['Subject'][1]"
   ]
  },
  {
   "cell_type": "markdown",
   "id": "d56e2b11",
   "metadata": {},
   "source": [
    "# Working with csv file"
   ]
  },
  {
   "cell_type": "code",
   "execution_count": 7,
   "id": "d1bf130b",
   "metadata": {},
   "outputs": [],
   "source": [
    "import csv"
   ]
  },
  {
   "cell_type": "code",
   "execution_count": 8,
   "id": "653aaa20",
   "metadata": {},
   "outputs": [],
   "source": [
    "data = [[\"Name\",\"email_id\",\"Phone_number\"],[\"Jinal\",\"jinal@gmail.com\",73517293],[\"Chaitanya\",\"Chaitanya@gmail.com\",8261813191]]"
   ]
  },
  {
   "cell_type": "code",
   "execution_count": 9,
   "id": "6cea9c0d",
   "metadata": {},
   "outputs": [],
   "source": [
    "with open(\"data.csv\",\"w\") as f:\n",
    "    writer = csv.writer(f)\n",
    "    for i in data:\n",
    "        writer.writerow(i)\n",
    "    "
   ]
  },
  {
   "cell_type": "code",
   "execution_count": 10,
   "id": "3add70ee",
   "metadata": {},
   "outputs": [
    {
     "data": {
      "text/plain": [
       "<_csv.writer at 0x20a2d3339a0>"
      ]
     },
     "execution_count": 10,
     "metadata": {},
     "output_type": "execute_result"
    }
   ],
   "source": [
    "writer"
   ]
  },
  {
   "cell_type": "code",
   "execution_count": 11,
   "id": "dd723814",
   "metadata": {},
   "outputs": [
    {
     "name": "stdout",
     "output_type": "stream",
     "text": [
      "['Name', 'email_id', 'Phone_number']\n",
      "[]\n",
      "['Jinal', 'jinal@gmail.com', '73517293']\n",
      "[]\n",
      "['Chaitanya', 'Chaitanya@gmail.com', '8261813191']\n",
      "[]\n"
     ]
    }
   ],
   "source": [
    "with open(\"data.csv\",\"r\") as f:\n",
    "    read_data = csv.reader(f)\n",
    "    for i in read_data:\n",
    "        print(i)"
   ]
  },
  {
   "cell_type": "markdown",
   "id": "cfee2933",
   "metadata": {},
   "source": [
    "# Working with binary data"
   ]
  },
  {
   "cell_type": "code",
   "execution_count": 12,
   "id": "c636bf0d",
   "metadata": {},
   "outputs": [],
   "source": [
    "with open(\"test.bin\",\"wb\") as f:\n",
    "    f.write(b\"\\x01\\x02\\x03\\x19626\")"
   ]
  },
  {
   "cell_type": "code",
   "execution_count": 13,
   "id": "18079325",
   "metadata": {},
   "outputs": [
    {
     "name": "stdout",
     "output_type": "stream",
     "text": [
      "b'\\x01\\x02\\x03\\x19626'\n"
     ]
    }
   ],
   "source": [
    "with open(\"test.bin\",\"rb\") as f:\n",
    "    print (f.read())"
   ]
  }
 ],
 "metadata": {
  "kernelspec": {
   "display_name": "Python 3 (ipykernel)",
   "language": "python",
   "name": "python3"
  },
  "language_info": {
   "codemirror_mode": {
    "name": "ipython",
    "version": 3
   },
   "file_extension": ".py",
   "mimetype": "text/x-python",
   "name": "python",
   "nbconvert_exporter": "python",
   "pygments_lexer": "ipython3",
   "version": "3.10.9"
  }
 },
 "nbformat": 4,
 "nbformat_minor": 5
}
