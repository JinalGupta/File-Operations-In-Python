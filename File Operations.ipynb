{
 "cells": [
  {
   "cell_type": "code",
   "execution_count": 1,
   "id": "d58e4403",
   "metadata": {},
   "outputs": [],
   "source": [
    "f = open(\"Text.txt\",'w')"
   ]
  },
  {
   "cell_type": "code",
   "execution_count": 2,
   "id": "fd5dc7c3",
   "metadata": {},
   "outputs": [
    {
     "data": {
      "text/plain": [
       "'C:\\\\Users\\\\jinal\\\\Data Science Masters Assignments'"
      ]
     },
     "execution_count": 2,
     "metadata": {},
     "output_type": "execute_result"
    }
   ],
   "source": [
    "pwd#Present working directory"
   ]
  },
  {
   "cell_type": "code",
   "execution_count": 3,
   "id": "38415a9b",
   "metadata": {},
   "outputs": [
    {
     "name": "stdout",
     "output_type": "stream",
     "text": [
      " Volume in drive C is OS\n",
      " Volume Serial Number is 5AAE-C1C5\n",
      "\n",
      " Directory of C:\\Users\\jinal\\Data Science Masters Assignments\n",
      "\n",
      "10-08-2024  11:38    <DIR>          .\n",
      "10-08-2024  09:41    <DIR>          ..\n",
      "10-08-2024  11:20    <DIR>          .ipynb_checkpoints\n",
      "14-07-2024  11:11            19,866 29th Jan 2023.ipynb\n",
      "10-07-2024  19:25             9,261 2nd February 2023 Assignment.ipynb\n",
      "14-07-2024  23:53            10,199 30th Jan 2023.ipynb\n",
      "11-07-2024  22:39            12,099 3rd February 2023.ipynb\n",
      "13-07-2024  00:07             5,092 4th Feb 2023.ipynb\n",
      "13-07-2024  19:03            12,572 5th Feb.ipynb\n",
      "18-07-2024  23:49            16,119 8th Feb.ipynb\n",
      "19-07-2024  11:35            10,252 9th Feb.ipynb\n",
      "18-07-2024  23:19             2,904 Abstraction.ipynb\n",
      "17-07-2024  23:19             3,326 Banking system using Encapsulation.ipynb\n",
      "31-07-2024  00:06            12,528 Class Method.ipynb\n",
      "10-08-2024  11:37               592 Copy_new.txt\n",
      "30-07-2024  18:45             2,020 Decorators.ipynb\n",
      "10-08-2024  11:38            21,075 File Operations.ipynb\n",
      "18-07-2024  22:51             4,376 Inheritance .ipynb\n",
      "29-09-2023  18:20           393,769 JinalGupta_DataScience Applications.ipynb\n",
      "10-08-2024  10:04             7,040 Magic Function.ipynb\n",
      "17-07-2024  23:24             6,568 practice oops.ipynb\n",
      "02-02-2024  20:13             2,247 Practice.ipynb\n",
      "10-08-2024  10:30             5,371 Property Decorator.ipynb\n",
      "15-07-2024  22:26             6,212 Python Task 1.ipynb\n",
      "17-07-2024  00:02            21,040 Python Task 2.ipynb\n",
      "31-07-2024  12:18             5,808 Static Method.ipynb\n",
      "10-08-2024  11:26             2,142 Test.txt\n",
      "10-08-2024  11:34               592 Test1.txt\n",
      "10-08-2024  11:38                 0 Text.txt\n",
      "07-10-2023  22:54             1,521 Untitled.ipynb\n",
      "01-07-2024  23:50             9,725 Untitled1.ipynb\n",
      "01-07-2024  19:34             6,948 Untitled2.ipynb\n",
      "              29 File(s)        611,264 bytes\n",
      "               3 Dir(s)  203,179,098,112 bytes free\n"
     ]
    }
   ],
   "source": [
    "ls"
   ]
  },
  {
   "cell_type": "code",
   "execution_count": 4,
   "id": "49f1fc50",
   "metadata": {},
   "outputs": [
    {
     "data": {
      "text/plain": [
       "204"
      ]
     },
     "execution_count": 4,
     "metadata": {},
     "output_type": "execute_result"
    }
   ],
   "source": [
    "f.write(\"Apple Inc. is an American multinational corporation and technology company headquartered in Cupertino, California, in Silicon Valley. It is best known for its consumer electronics, software, and services.\")"
   ]
  },
  {
   "cell_type": "code",
   "execution_count": 5,
   "id": "9ab844a2",
   "metadata": {},
   "outputs": [],
   "source": [
    "f.close()"
   ]
  },
  {
   "cell_type": "code",
   "execution_count": 6,
   "id": "8d51002c",
   "metadata": {},
   "outputs": [],
   "source": [
    "f = open(\"Test.txt\",'w')"
   ]
  },
  {
   "cell_type": "code",
   "execution_count": 7,
   "id": "61fb1330",
   "metadata": {},
   "outputs": [
    {
     "data": {
      "text/plain": [
       "639"
      ]
     },
     "execution_count": 7,
     "metadata": {},
     "output_type": "execute_result"
    }
   ],
   "source": [
    "#It will truncate the file contetnt and then write the new content\n",
    "f.write(\"Since 2011, Apple has been the world's largest company by market capitalization except when Microsoft held the position between January and June 2024.[6][7][8] In 2022, Apple was the largest technology company by revenue, with US$394.3 billion.[9][failed verification] As of 2023, Apple was the fourth-largest personal computer vendor by unit sales,[10] the largest manufacturing company by revenue, and the largest vendor of mobile phones in the world.[11] It is one of the Big Five American information technology companies, alongside Alphabet (the parent company of Google), Amazon, Meta (the parent company of Facebook), and Microsoft.\")"
   ]
  },
  {
   "cell_type": "code",
   "execution_count": 8,
   "id": "1c6f4754",
   "metadata": {},
   "outputs": [],
   "source": [
    "f.close()"
   ]
  },
  {
   "cell_type": "code",
   "execution_count": 9,
   "id": "e8a81d90",
   "metadata": {},
   "outputs": [],
   "source": [
    "f = open(\"Test.txt\",'a')"
   ]
  },
  {
   "cell_type": "code",
   "execution_count": 10,
   "id": "3a109477",
   "metadata": {},
   "outputs": [
    {
     "data": {
      "text/plain": [
       "864"
      ]
     },
     "execution_count": 10,
     "metadata": {},
     "output_type": "execute_result"
    }
   ],
   "source": [
    "f.write(\"Apple was founded as Apple Computer Company on April 1, 1976, to produce and market Steve Wozniak's Apple I personal computer. The company was incorporated by Wozniak and Steve Jobs in 1977. Its second computer, the Apple II, became a best seller as one of the first mass-produced microcomputers. Apple introduced the Lisa in 1983 and the Macintosh in 1984, as some of the first computers to use a graphical user interface and a mouse. By 1985, the company's internal problems included the high cost of its products and power struggles between executives. That year Jobs left Apple to form NeXT, Inc., and Wozniak withdrew to other ventures. The market for personal computers expanded and evolved throughout the 1990s, and Apple lost considerable market share to the lower-priced Wintel duopoly of the Microsoft Windows operating system on Intel-powered PC clones.\")"
   ]
  },
  {
   "cell_type": "code",
   "execution_count": 11,
   "id": "945468a9",
   "metadata": {},
   "outputs": [],
   "source": [
    "f.close()"
   ]
  },
  {
   "cell_type": "code",
   "execution_count": 12,
   "id": "6d05ae02",
   "metadata": {},
   "outputs": [],
   "source": [
    "data = open(\"Test.txt\",'r')"
   ]
  },
  {
   "cell_type": "code",
   "execution_count": 13,
   "id": "326d78e7",
   "metadata": {},
   "outputs": [
    {
     "data": {
      "text/plain": [
       "\"Since 2011, Apple has been the world's largest company by market capitalization except when Microsoft held the position between January and June 2024.[6][7][8] In 2022, Apple was the largest technology company by revenue, with US$394.3 billion.[9][failed verification] As of 2023, Apple was the fourth-largest personal computer vendor by unit sales,[10] the largest manufacturing company by revenue, and the largest vendor of mobile phones in the world.[11] It is one of the Big Five American information technology companies, alongside Alphabet (the parent company of Google), Amazon, Meta (the parent company of Facebook), and Microsoft.Apple was founded as Apple Computer Company on April 1, 1976, to produce and market Steve Wozniak's Apple I personal computer. The company was incorporated by Wozniak and Steve Jobs in 1977. Its second computer, the Apple II, became a best seller as one of the first mass-produced microcomputers. Apple introduced the Lisa in 1983 and the Macintosh in 1984, as some of the first computers to use a graphical user interface and a mouse. By 1985, the company's internal problems included the high cost of its products and power struggles between executives. That year Jobs left Apple to form NeXT, Inc., and Wozniak withdrew to other ventures. The market for personal computers expanded and evolved throughout the 1990s, and Apple lost considerable market share to the lower-priced Wintel duopoly of the Microsoft Windows operating system on Intel-powered PC clones.\""
      ]
     },
     "execution_count": 13,
     "metadata": {},
     "output_type": "execute_result"
    }
   ],
   "source": [
    "data.read()"
   ]
  },
  {
   "cell_type": "code",
   "execution_count": 14,
   "id": "ad7b2fae",
   "metadata": {},
   "outputs": [
    {
     "data": {
      "text/plain": [
       "0"
      ]
     },
     "execution_count": 14,
     "metadata": {},
     "output_type": "execute_result"
    }
   ],
   "source": [
    "data.seek(0)#To get the pointer back to the initial state"
   ]
  },
  {
   "cell_type": "code",
   "execution_count": 15,
   "id": "6c6807ef",
   "metadata": {},
   "outputs": [
    {
     "data": {
      "text/plain": [
       "\"Since 2011, Apple has been the world's largest company by market capitalization except when Microsoft held the position between January and June 2024.[6][7][8] In 2022, Apple was the largest technology company by revenue, with US$394.3 billion.[9][failed verification] As of 2023, Apple was the fourth-largest personal computer vendor by unit sales,[10] the largest manufacturing company by revenue, and the largest vendor of mobile phones in the world.[11] It is one of the Big Five American information technology companies, alongside Alphabet (the parent company of Google), Amazon, Meta (the parent company of Facebook), and Microsoft.Apple was founded as Apple Computer Company on April 1, 1976, to produce and market Steve Wozniak's Apple I personal computer. The company was incorporated by Wozniak and Steve Jobs in 1977. Its second computer, the Apple II, became a best seller as one of the first mass-produced microcomputers. Apple introduced the Lisa in 1983 and the Macintosh in 1984, as some of the first computers to use a graphical user interface and a mouse. By 1985, the company's internal problems included the high cost of its products and power struggles between executives. That year Jobs left Apple to form NeXT, Inc., and Wozniak withdrew to other ventures. The market for personal computers expanded and evolved throughout the 1990s, and Apple lost considerable market share to the lower-priced Wintel duopoly of the Microsoft Windows operating system on Intel-powered PC clones.\""
      ]
     },
     "execution_count": 15,
     "metadata": {},
     "output_type": "execute_result"
    }
   ],
   "source": [
    "data.readline()"
   ]
  },
  {
   "cell_type": "code",
   "execution_count": 16,
   "id": "37047830",
   "metadata": {},
   "outputs": [
    {
     "data": {
      "text/plain": [
       "10"
      ]
     },
     "execution_count": 16,
     "metadata": {},
     "output_type": "execute_result"
    }
   ],
   "source": [
    "data.seek(10)"
   ]
  },
  {
   "cell_type": "code",
   "execution_count": 17,
   "id": "aecc8696",
   "metadata": {},
   "outputs": [
    {
     "data": {
      "text/plain": [
       "[\", Apple has been the world's largest company by market capitalization except when Microsoft held the position between January and June 2024.[6][7][8] In 2022, Apple was the largest technology company by revenue, with US$394.3 billion.[9][failed verification] As of 2023, Apple was the fourth-largest personal computer vendor by unit sales,[10] the largest manufacturing company by revenue, and the largest vendor of mobile phones in the world.[11] It is one of the Big Five American information technology companies, alongside Alphabet (the parent company of Google), Amazon, Meta (the parent company of Facebook), and Microsoft.Apple was founded as Apple Computer Company on April 1, 1976, to produce and market Steve Wozniak's Apple I personal computer. The company was incorporated by Wozniak and Steve Jobs in 1977. Its second computer, the Apple II, became a best seller as one of the first mass-produced microcomputers. Apple introduced the Lisa in 1983 and the Macintosh in 1984, as some of the first computers to use a graphical user interface and a mouse. By 1985, the company's internal problems included the high cost of its products and power struggles between executives. That year Jobs left Apple to form NeXT, Inc., and Wozniak withdrew to other ventures. The market for personal computers expanded and evolved throughout the 1990s, and Apple lost considerable market share to the lower-priced Wintel duopoly of the Microsoft Windows operating system on Intel-powered PC clones.\"]"
      ]
     },
     "execution_count": 17,
     "metadata": {},
     "output_type": "execute_result"
    }
   ],
   "source": [
    "data.readlines()"
   ]
  },
  {
   "cell_type": "code",
   "execution_count": 18,
   "id": "c9062555",
   "metadata": {},
   "outputs": [],
   "source": [
    "data1 = open(\"Test.txt\",'r')"
   ]
  },
  {
   "cell_type": "code",
   "execution_count": 19,
   "id": "58abd4f6",
   "metadata": {},
   "outputs": [
    {
     "name": "stdout",
     "output_type": "stream",
     "text": [
      "Since 2011, Apple has been the world's largest company by market capitalization except when Microsoft held the position between January and June 2024.[6][7][8] In 2022, Apple was the largest technology company by revenue, with US$394.3 billion.[9][failed verification] As of 2023, Apple was the fourth-largest personal computer vendor by unit sales,[10] the largest manufacturing company by revenue, and the largest vendor of mobile phones in the world.[11] It is one of the Big Five American information technology companies, alongside Alphabet (the parent company of Google), Amazon, Meta (the parent company of Facebook), and Microsoft.Apple was founded as Apple Computer Company on April 1, 1976, to produce and market Steve Wozniak's Apple I personal computer. The company was incorporated by Wozniak and Steve Jobs in 1977. Its second computer, the Apple II, became a best seller as one of the first mass-produced microcomputers. Apple introduced the Lisa in 1983 and the Macintosh in 1984, as some of the first computers to use a graphical user interface and a mouse. By 1985, the company's internal problems included the high cost of its products and power struggles between executives. That year Jobs left Apple to form NeXT, Inc., and Wozniak withdrew to other ventures. The market for personal computers expanded and evolved throughout the 1990s, and Apple lost considerable market share to the lower-priced Wintel duopoly of the Microsoft Windows operating system on Intel-powered PC clones.\n"
     ]
    }
   ],
   "source": [
    "for i in data1:\n",
    "    print(i)"
   ]
  },
  {
   "cell_type": "code",
   "execution_count": 20,
   "id": "6edb3ffc",
   "metadata": {},
   "outputs": [],
   "source": [
    "data1.close()"
   ]
  },
  {
   "cell_type": "code",
   "execution_count": 21,
   "id": "15cd8093",
   "metadata": {},
   "outputs": [
    {
     "data": {
      "text/plain": [
       "1503"
      ]
     },
     "execution_count": 21,
     "metadata": {},
     "output_type": "execute_result"
    }
   ],
   "source": [
    "import os\n",
    "os.path.getsize(\"Test.txt\")"
   ]
  },
  {
   "cell_type": "code",
   "execution_count": 22,
   "id": "76368a08",
   "metadata": {},
   "outputs": [],
   "source": [
    "f = open(\"Test1.txt\",'a')"
   ]
  },
  {
   "cell_type": "code",
   "execution_count": 23,
   "id": "40bea8ea",
   "metadata": {},
   "outputs": [
    {
     "data": {
      "text/plain": [
       "592"
      ]
     },
     "execution_count": 23,
     "metadata": {},
     "output_type": "execute_result"
    }
   ],
   "source": [
    "f.write(\"In 1997, Apple was weeks away from bankruptcy. To resolve its failed operating system strategy and entice Jobs's return, it bought NeXT. Over the next decade, Jobs guided Apple back to profitability through several tactics including introducing the iMac, iPod, iPhone, and iPad to critical acclaim, launching the Think different campaign and other memorable advertising campaigns, opening the Apple Store retail chain, and acquiring numerous companies to broaden its product portfolio. Jobs resigned in 2011, for health reasons, and died two months later. He was succeeded as CEO by Tim Cook.\")"
   ]
  },
  {
   "cell_type": "code",
   "execution_count": 24,
   "id": "316a86ea",
   "metadata": {},
   "outputs": [],
   "source": [
    "f.close()"
   ]
  },
  {
   "cell_type": "code",
   "execution_count": 25,
   "id": "94687b17",
   "metadata": {},
   "outputs": [],
   "source": [
    "import shutil"
   ]
  },
  {
   "cell_type": "code",
   "execution_count": 26,
   "id": "f7a8910a",
   "metadata": {},
   "outputs": [
    {
     "data": {
      "text/plain": [
       "'Copy_new.txt'"
      ]
     },
     "execution_count": 26,
     "metadata": {},
     "output_type": "execute_result"
    }
   ],
   "source": [
    "shutil.copy(\"Test1.txt\",\"Copy_new.txt\")"
   ]
  },
  {
   "cell_type": "code",
   "execution_count": 27,
   "id": "35666832",
   "metadata": {},
   "outputs": [
    {
     "name": "stdout",
     "output_type": "stream",
     "text": [
      "In 1997, Apple was weeks away from bankruptcy. To resolve its failed operating system strategy and entice Jobs's return, it bought NeXT. Over the next decade, Jobs guided Apple back to profitability through several tactics including introducing the iMac, iPod, iPhone, and iPad to critical acclaim, launching the Think different campaign and other memorable advertising campaigns, opening the Apple Store retail chain, and acquiring numerous companies to broaden its product portfolio. Jobs resigned in 2011, for health reasons, and died two months later. He was succeeded as CEO by Tim Cook.In 1997, Apple was weeks away from bankruptcy. To resolve its failed operating system strategy and entice Jobs's return, it bought NeXT. Over the next decade, Jobs guided Apple back to profitability through several tactics including introducing the iMac, iPod, iPhone, and iPad to critical acclaim, launching the Think different campaign and other memorable advertising campaigns, opening the Apple Store retail chain, and acquiring numerous companies to broaden its product portfolio. Jobs resigned in 2011, for health reasons, and died two months later. He was succeeded as CEO by Tim Cook.\n"
     ]
    }
   ],
   "source": [
    "with open(\"Test1.txt\",'r') as f:\n",
    "    print (f.read())"
   ]
  }
 ],
 "metadata": {
  "kernelspec": {
   "display_name": "Python 3 (ipykernel)",
   "language": "python",
   "name": "python3"
  },
  "language_info": {
   "codemirror_mode": {
    "name": "ipython",
    "version": 3
   },
   "file_extension": ".py",
   "mimetype": "text/x-python",
   "name": "python",
   "nbconvert_exporter": "python",
   "pygments_lexer": "ipython3",
   "version": "3.10.9"
  }
 },
 "nbformat": 4,
 "nbformat_minor": 5
}
